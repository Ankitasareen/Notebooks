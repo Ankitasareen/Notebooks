{
 "cells": [
  {
   "cell_type": "code",
   "execution_count": 1,
   "metadata": {},
   "outputs": [],
   "source": [
    "import numpy as np\n",
    "import pandas as pd\n",
    "import matplotlib.pyplot as plt \n",
    "import seaborn as sns \n",
    "import warnings\n",
    "warnings.filterwarnings('ignore')"
   ]
  },
  {
   "cell_type": "code",
   "execution_count": 2,
   "metadata": {},
   "outputs": [
    {
     "name": "stdout",
     "output_type": "stream",
     "text": [
      "     CAST_NO  GRADE   BLOW_DUR  MIXER_C  MIXER_MN  MIXER_S  MIXER_P  MIXER_SI  \\\n",
      "0     M44919    980  18.766667     4.48    0.0460   0.0590   0.1940    0.6450   \n",
      "1     M44923    980  18.183333     4.48    0.0460   0.0500   0.1870    0.6790   \n",
      "2     M44925    980  18.166667     4.48    0.0420   0.0780   0.1900    0.8090   \n",
      "3     M44927    980  17.616667     4.48    0.0470   0.0570   0.1980    0.7550   \n",
      "4     M44931    980  18.350000     4.48    0.0440   0.0640   0.1980    0.7920   \n",
      "...      ...    ...        ...      ...       ...      ...      ...       ...   \n",
      "8143  M60321    980  16.333333     4.65    0.0529   0.0250   0.1704    0.9286   \n",
      "8144  M60325    909  16.683333     4.29    0.0438   0.0400   0.1679    0.5499   \n",
      "8145  M60330    909  15.850000     4.48    0.0434   0.0368   0.1736    0.7030   \n",
      "8146  M60344    980  16.850000     4.55    0.0431   0.0510   0.1573    0.6491   \n",
      "8147  M60348    980  16.350000     4.62    0.0431   0.0410   0.1773    0.7617   \n",
      "\n",
      "      MIXER_TI  HM_CHARGED    LIME  IRON_ORE   OXY  SCRAP  SCRAP_HVY_MELT  \\\n",
      "0       0.0655      140.00   8.498     2.906  7897  21.10            3.10   \n",
      "1       0.0656      140.22   8.590     3.000  7354  21.50            3.50   \n",
      "2       0.0700      144.96   8.807     3.165  7624  20.00            0.00   \n",
      "3       0.0729      140.00   9.000     4.500  7200  20.00            5.00   \n",
      "4       0.0679      135.00   8.217     3.248  7230  20.97            5.97   \n",
      "...        ...         ...     ...       ...   ...    ...             ...   \n",
      "8143    0.0995      144.15   8.187     7.589  7188  15.16            5.16   \n",
      "8144    0.0634      146.63   8.773     5.846  7540  15.81            5.81   \n",
      "8145    0.0709      152.37   8.629     8.269  6724   0.00            0.00   \n",
      "8146    0.0631      158.69  10.217    11.905  7234   0.00            0.00   \n",
      "8147    0.0723      155.95   9.029     8.645  6867   0.00            0.00   \n",
      "\n",
      "      SCRAP_WRP_OH_GRADE_FINES   TD_P   TD_C  \n",
      "0                         18.0  0.010  0.042  \n",
      "1                         18.0  0.021  0.050  \n",
      "2                         20.0  0.022  0.053  \n",
      "3                          5.0  0.015  0.046  \n",
      "4                         15.0  0.019  0.054  \n",
      "...                        ...    ...    ...  \n",
      "8143                       5.0  0.015  0.052  \n",
      "8144                       5.0  0.020  0.048  \n",
      "8145                       0.0  0.016  0.057  \n",
      "8146                       0.0  0.020  0.074  \n",
      "8147                       0.0  0.018  0.075  \n",
      "\n",
      "[8148 rows x 18 columns]\n"
     ]
    }
   ],
   "source": [
    "import pandas as pd\n",
    "\n",
    "data = pd.read_excel (r'heat data.xlsx')\n",
    "df =data.copy()\n",
    "print (df)"
   ]
  },
  {
   "cell_type": "code",
   "execution_count": 44,
   "metadata": {},
   "outputs": [
    {
     "data": {
      "image/png": "[encoded data removed]",
      "text/plain": [
       "<Figure size 432x288 with 1 Axes>"
      ]
     },
     "metadata": {
      "needs_background": "light"
     },
     "output_type": "display_data"
    },
    {
     "data": {
      "image/png": "[encoded data removed]",
      "text/plain": [
       "<Figure size 432x288 with 1 Axes>"
      ]
     },
     "metadata": {
      "needs_background": "light"
     },
     "output_type": "display_data"
    },
    {
     "data": {
      "image/png": "[encoded data removed]",
      "text/plain": [
       "<Figure size 432x288 with 1 Axes>"
      ]
     },
     "metadata": {
      "needs_background": "light"
     },
     "output_type": "display_data"
    }
   ],
   "source": [
    "#We plot the boxplots of first three features and see that there are outliers which might can create problem.\n",
    "plt.boxplot(data['GRADE'])\n",
    "plt.show()\n",
    "plt.boxplot(data['BLOW_DUR'])\n",
    "plt.show()\n",
    "plt.boxplot(data['MIXER_C'])\n",
    "plt.show()\n",
    "\n"
   ]
  },
  {
   "cell_type": "code",
   "execution_count": 45,
   "metadata": {},
   "outputs": [
    {
     "name": "stdout",
     "output_type": "stream",
     "text": [
      "GRADE                         0.000000\n",
      "BLOW_DUR                      1.666667\n",
      "MIXER_C                       0.040000\n",
      "MIXER_MN                      0.010600\n",
      "MIXER_S                       0.013000\n",
      "MIXER_P                       0.023500\n",
      "MIXER_SI                      0.222000\n",
      "MIXER_TI                      0.020900\n",
      "HM_CHARGED                   12.095000\n",
      "LIME                          1.013000\n",
      "IRON_ORE                      3.081500\n",
      "OXY                         573.250000\n",
      "SCRAP                         6.320000\n",
      "SCRAP_HVY_MELT                7.192500\n",
      "SCRAP_WRP_OH_GRADE_FINES      6.000000\n",
      "TD_P                          0.009000\n",
      "TD_C                          0.017000\n",
      "dtype: float64\n"
     ]
    }
   ],
   "source": [
    "#We will use the approach of finding the outliers on the basis of interquantile range\n",
    "Q1 = data.quantile(0.25)\n",
    "Q3 = data.quantile(0.75)\n",
    "IQR = Q3 - Q1\n",
    "print(IQR)"
   ]
  },
  {
   "cell_type": "code",
   "execution_count": 24,
   "metadata": {},
   "outputs": [
    {
     "data": {
      "text/html": [
       "<div>\n",
       "<style scoped>\n",
       "    .dataframe tbody tr th:only-of-type {\n",
       "        vertical-align: middle;\n",
       "    }\n",
       "\n",
       "    .dataframe tbody tr th {\n",
       "        vertical-align: top;\n",
       "    }\n",
       "\n",
       "    .dataframe thead th {\n",
       "        text-align: right;\n",
       "    }\n",
       "</style>\n",
       "<table border=\"1\" class=\"dataframe\">\n",
       "  <thead>\n",
       "    <tr style=\"text-align: right;\">\n",
       "      <th></th>\n",
       "      <th>CAST_NO</th>\n",
       "      <th>GRADE</th>\n",
       "      <th>BLOW_DUR</th>\n",
       "      <th>MIXER_C</th>\n",
       "      <th>MIXER_MN</th>\n",
       "      <th>MIXER_S</th>\n",
       "      <th>MIXER_P</th>\n",
       "      <th>MIXER_SI</th>\n",
       "      <th>MIXER_TI</th>\n",
       "      <th>HM_CHARGED</th>\n",
       "      <th>LIME</th>\n",
       "      <th>IRON_ORE</th>\n",
       "      <th>OXY</th>\n",
       "      <th>SCRAP</th>\n",
       "      <th>SCRAP_HVY_MELT</th>\n",
       "      <th>SCRAP_WRP_OH_GRADE_FINES</th>\n",
       "      <th>TD_P</th>\n",
       "      <th>TD_C</th>\n",
       "    </tr>\n",
       "  </thead>\n",
       "  <tbody>\n",
       "    <tr>\n",
       "      <th>0</th>\n",
       "      <td>M44919</td>\n",
       "      <td>980</td>\n",
       "      <td>18.766667</td>\n",
       "      <td>4.48</td>\n",
       "      <td>0.0460</td>\n",
       "      <td>0.0590</td>\n",
       "      <td>0.1940</td>\n",
       "      <td>0.6450</td>\n",
       "      <td>0.0655</td>\n",
       "      <td>140.00</td>\n",
       "      <td>8.498</td>\n",
       "      <td>2.906</td>\n",
       "      <td>7897</td>\n",
       "      <td>21.10</td>\n",
       "      <td>3.10</td>\n",
       "      <td>18.0</td>\n",
       "      <td>0.010</td>\n",
       "      <td>0.042</td>\n",
       "    </tr>\n",
       "    <tr>\n",
       "      <th>1</th>\n",
       "      <td>M44923</td>\n",
       "      <td>980</td>\n",
       "      <td>18.183333</td>\n",
       "      <td>4.48</td>\n",
       "      <td>0.0460</td>\n",
       "      <td>0.0500</td>\n",
       "      <td>0.1870</td>\n",
       "      <td>0.6790</td>\n",
       "      <td>0.0656</td>\n",
       "      <td>140.22</td>\n",
       "      <td>8.590</td>\n",
       "      <td>3.000</td>\n",
       "      <td>7354</td>\n",
       "      <td>21.50</td>\n",
       "      <td>3.50</td>\n",
       "      <td>18.0</td>\n",
       "      <td>0.021</td>\n",
       "      <td>0.050</td>\n",
       "    </tr>\n",
       "    <tr>\n",
       "      <th>2</th>\n",
       "      <td>M44925</td>\n",
       "      <td>980</td>\n",
       "      <td>18.166667</td>\n",
       "      <td>4.48</td>\n",
       "      <td>0.0420</td>\n",
       "      <td>0.0780</td>\n",
       "      <td>0.1900</td>\n",
       "      <td>0.8090</td>\n",
       "      <td>0.0700</td>\n",
       "      <td>144.96</td>\n",
       "      <td>8.807</td>\n",
       "      <td>3.165</td>\n",
       "      <td>7624</td>\n",
       "      <td>20.00</td>\n",
       "      <td>0.00</td>\n",
       "      <td>20.0</td>\n",
       "      <td>0.022</td>\n",
       "      <td>0.053</td>\n",
       "    </tr>\n",
       "    <tr>\n",
       "      <th>6</th>\n",
       "      <td>M44935</td>\n",
       "      <td>1019</td>\n",
       "      <td>19.016667</td>\n",
       "      <td>4.48</td>\n",
       "      <td>0.0430</td>\n",
       "      <td>0.0440</td>\n",
       "      <td>0.1560</td>\n",
       "      <td>0.5950</td>\n",
       "      <td>0.0594</td>\n",
       "      <td>143.03</td>\n",
       "      <td>8.294</td>\n",
       "      <td>2.488</td>\n",
       "      <td>7467</td>\n",
       "      <td>20.63</td>\n",
       "      <td>5.63</td>\n",
       "      <td>15.0</td>\n",
       "      <td>0.017</td>\n",
       "      <td>0.080</td>\n",
       "    </tr>\n",
       "    <tr>\n",
       "      <th>9</th>\n",
       "      <td>M44940</td>\n",
       "      <td>980</td>\n",
       "      <td>16.900000</td>\n",
       "      <td>4.48</td>\n",
       "      <td>0.0420</td>\n",
       "      <td>0.0530</td>\n",
       "      <td>0.2000</td>\n",
       "      <td>0.5530</td>\n",
       "      <td>0.0517</td>\n",
       "      <td>166.86</td>\n",
       "      <td>8.548</td>\n",
       "      <td>5.696</td>\n",
       "      <td>7088</td>\n",
       "      <td>0.00</td>\n",
       "      <td>0.00</td>\n",
       "      <td>0.0</td>\n",
       "      <td>0.016</td>\n",
       "      <td>0.050</td>\n",
       "    </tr>\n",
       "    <tr>\n",
       "      <th>...</th>\n",
       "      <td>...</td>\n",
       "      <td>...</td>\n",
       "      <td>...</td>\n",
       "      <td>...</td>\n",
       "      <td>...</td>\n",
       "      <td>...</td>\n",
       "      <td>...</td>\n",
       "      <td>...</td>\n",
       "      <td>...</td>\n",
       "      <td>...</td>\n",
       "      <td>...</td>\n",
       "      <td>...</td>\n",
       "      <td>...</td>\n",
       "      <td>...</td>\n",
       "      <td>...</td>\n",
       "      <td>...</td>\n",
       "      <td>...</td>\n",
       "      <td>...</td>\n",
       "    </tr>\n",
       "    <tr>\n",
       "      <th>8143</th>\n",
       "      <td>M60321</td>\n",
       "      <td>980</td>\n",
       "      <td>16.333333</td>\n",
       "      <td>4.65</td>\n",
       "      <td>0.0529</td>\n",
       "      <td>0.0250</td>\n",
       "      <td>0.1704</td>\n",
       "      <td>0.9286</td>\n",
       "      <td>0.0995</td>\n",
       "      <td>144.15</td>\n",
       "      <td>8.187</td>\n",
       "      <td>7.589</td>\n",
       "      <td>7188</td>\n",
       "      <td>15.16</td>\n",
       "      <td>5.16</td>\n",
       "      <td>5.0</td>\n",
       "      <td>0.015</td>\n",
       "      <td>0.052</td>\n",
       "    </tr>\n",
       "    <tr>\n",
       "      <th>8144</th>\n",
       "      <td>M60325</td>\n",
       "      <td>909</td>\n",
       "      <td>16.683333</td>\n",
       "      <td>4.29</td>\n",
       "      <td>0.0438</td>\n",
       "      <td>0.0400</td>\n",
       "      <td>0.1679</td>\n",
       "      <td>0.5499</td>\n",
       "      <td>0.0634</td>\n",
       "      <td>146.63</td>\n",
       "      <td>8.773</td>\n",
       "      <td>5.846</td>\n",
       "      <td>7540</td>\n",
       "      <td>15.81</td>\n",
       "      <td>5.81</td>\n",
       "      <td>5.0</td>\n",
       "      <td>0.020</td>\n",
       "      <td>0.048</td>\n",
       "    </tr>\n",
       "    <tr>\n",
       "      <th>8145</th>\n",
       "      <td>M60330</td>\n",
       "      <td>909</td>\n",
       "      <td>15.850000</td>\n",
       "      <td>4.48</td>\n",
       "      <td>0.0434</td>\n",
       "      <td>0.0368</td>\n",
       "      <td>0.1736</td>\n",
       "      <td>0.7030</td>\n",
       "      <td>0.0709</td>\n",
       "      <td>152.37</td>\n",
       "      <td>8.629</td>\n",
       "      <td>8.269</td>\n",
       "      <td>6724</td>\n",
       "      <td>0.00</td>\n",
       "      <td>0.00</td>\n",
       "      <td>0.0</td>\n",
       "      <td>0.016</td>\n",
       "      <td>0.057</td>\n",
       "    </tr>\n",
       "    <tr>\n",
       "      <th>8146</th>\n",
       "      <td>M60344</td>\n",
       "      <td>980</td>\n",
       "      <td>16.850000</td>\n",
       "      <td>4.55</td>\n",
       "      <td>0.0431</td>\n",
       "      <td>0.0510</td>\n",
       "      <td>0.1573</td>\n",
       "      <td>0.6491</td>\n",
       "      <td>0.0631</td>\n",
       "      <td>158.69</td>\n",
       "      <td>10.217</td>\n",
       "      <td>11.905</td>\n",
       "      <td>7234</td>\n",
       "      <td>0.00</td>\n",
       "      <td>0.00</td>\n",
       "      <td>0.0</td>\n",
       "      <td>0.020</td>\n",
       "      <td>0.074</td>\n",
       "    </tr>\n",
       "    <tr>\n",
       "      <th>8147</th>\n",
       "      <td>M60348</td>\n",
       "      <td>980</td>\n",
       "      <td>16.350000</td>\n",
       "      <td>4.62</td>\n",
       "      <td>0.0431</td>\n",
       "      <td>0.0410</td>\n",
       "      <td>0.1773</td>\n",
       "      <td>0.7617</td>\n",
       "      <td>0.0723</td>\n",
       "      <td>155.95</td>\n",
       "      <td>9.029</td>\n",
       "      <td>8.645</td>\n",
       "      <td>6867</td>\n",
       "      <td>0.00</td>\n",
       "      <td>0.00</td>\n",
       "      <td>0.0</td>\n",
       "      <td>0.018</td>\n",
       "      <td>0.075</td>\n",
       "    </tr>\n",
       "  </tbody>\n",
       "</table>\n",
       "<p>6443 rows × 18 columns</p>\n",
       "</div>"
      ],
      "text/plain": [
       "     CAST_NO  GRADE   BLOW_DUR  MIXER_C  MIXER_MN  MIXER_S  MIXER_P  MIXER_SI  \\\n",
       "0     M44919    980  18.766667     4.48    0.0460   0.0590   0.1940    0.6450   \n",
       "1     M44923    980  18.183333     4.48    0.0460   0.0500   0.1870    0.6790   \n",
       "2     M44925    980  18.166667     4.48    0.0420   0.0780   0.1900    0.8090   \n",
       "6     M44935   1019  19.016667     4.48    0.0430   0.0440   0.1560    0.5950   \n",
       "9     M44940    980  16.900000     4.48    0.0420   0.0530   0.2000    0.5530   \n",
       "...      ...    ...        ...      ...       ...      ...      ...       ...   \n",
       "8143  M60321    980  16.333333     4.65    0.0529   0.0250   0.1704    0.9286   \n",
       "8144  M60325    909  16.683333     4.29    0.0438   0.0400   0.1679    0.5499   \n",
       "8145  M60330    909  15.850000     4.48    0.0434   0.0368   0.1736    0.7030   \n",
       "8146  M60344    980  16.850000     4.55    0.0431   0.0510   0.1573    0.6491   \n",
       "8147  M60348    980  16.350000     4.62    0.0431   0.0410   0.1773    0.7617   \n",
       "\n",
       "      MIXER_TI  HM_CHARGED    LIME  IRON_ORE   OXY  SCRAP  SCRAP_HVY_MELT  \\\n",
       "0       0.0655      140.00   8.498     2.906  7897  21.10            3.10   \n",
       "1       0.0656      140.22   8.590     3.000  7354  21.50            3.50   \n",
       "2       0.0700      144.96   8.807     3.165  7624  20.00            0.00   \n",
       "6       0.0594      143.03   8.294     2.488  7467  20.63            5.63   \n",
       "9       0.0517      166.86   8.548     5.696  7088   0.00            0.00   \n",
       "...        ...         ...     ...       ...   ...    ...             ...   \n",
       "8143    0.0995      144.15   8.187     7.589  7188  15.16            5.16   \n",
       "8144    0.0634      146.63   8.773     5.846  7540  15.81            5.81   \n",
       "8145    0.0709      152.37   8.629     8.269  6724   0.00            0.00   \n",
       "8146    0.0631      158.69  10.217    11.905  7234   0.00            0.00   \n",
       "8147    0.0723      155.95   9.029     8.645  6867   0.00            0.00   \n",
       "\n",
       "      SCRAP_WRP_OH_GRADE_FINES   TD_P   TD_C  \n",
       "0                         18.0  0.010  0.042  \n",
       "1                         18.0  0.021  0.050  \n",
       "2                         20.0  0.022  0.053  \n",
       "6                         15.0  0.017  0.080  \n",
       "9                          0.0  0.016  0.050  \n",
       "...                        ...    ...    ...  \n",
       "8143                       5.0  0.015  0.052  \n",
       "8144                       5.0  0.020  0.048  \n",
       "8145                       0.0  0.016  0.057  \n",
       "8146                       0.0  0.020  0.074  \n",
       "8147                       0.0  0.018  0.075  \n",
       "\n",
       "[6443 rows x 18 columns]"
      ]
     },
     "execution_count": 24,
     "metadata": {},
     "output_type": "execute_result"
    }
   ],
   "source": [
    "#This dataset is without outliers which we removed by usinh dfi = data[((data < (Q1 - 1.5 * IQR)) |(data > (Q3 + 1.5 * IQR))).any(axis=1)]\n",
    "dfi"
   ]
  },
  {
   "cell_type": "code",
   "execution_count": 6,
   "metadata": {},
   "outputs": [
    {
     "name": "stdout",
     "output_type": "stream",
     "text": [
      "<class 'pandas.core.frame.DataFrame'>\n",
      "Int64Index: 6443 entries, 0 to 8147\n",
      "Data columns (total 18 columns):\n",
      " #   Column                    Non-Null Count  Dtype  \n",
      "---  ------                    --------------  -----  \n",
      " 0   CAST_NO                   6443 non-null   object \n",
      " 1   GRADE                     6443 non-null   int64  \n",
      " 2   BLOW_DUR                  6443 non-null   float64\n",
      " 3   MIXER_C                   6443 non-null   float64\n",
      " 4   MIXER_MN                  6434 non-null   float64\n",
      " 5   MIXER_S                   6443 non-null   float64\n",
      " 6   MIXER_P                   6434 non-null   float64\n",
      " 7   MIXER_SI                  6434 non-null   float64\n",
      " 8   MIXER_TI                  6434 non-null   float64\n",
      " 9   HM_CHARGED                6443 non-null   float64\n",
      " 10  LIME                      6443 non-null   float64\n",
      " 11  IRON_ORE                  6443 non-null   float64\n",
      " 12  OXY                       6443 non-null   int64  \n",
      " 13  SCRAP                     6443 non-null   float64\n",
      " 14  SCRAP_HVY_MELT            6443 non-null   float64\n",
      " 15  SCRAP_WRP_OH_GRADE_FINES  6443 non-null   float64\n",
      " 16  TD_P                      6443 non-null   float64\n",
      " 17  TD_C                      6443 non-null   float64\n",
      "dtypes: float64(15), int64(2), object(1)\n",
      "memory usage: 956.4+ KB\n"
     ]
    }
   ],
   "source": [
    "dfi.info()"
   ]
  },
  {
   "cell_type": "code",
   "execution_count": 32,
   "metadata": {},
   "outputs": [],
   "source": [
    "#For treating the null values,we will fill the null values with median.\n",
    "dfi[\"MIXER_MN\"].fillna(dfi[\"MIXER_MN\"].median(), inplace=True)\n",
    "dfi[\"MIXER_P\"].fillna(dfi[\"MIXER_P\"].median(), inplace=True)\n",
    "dfi[\"MIXER_SI\"].fillna(dfi[\"MIXER_SI\"].median(), inplace=True)\n",
    "dfi[\"MIXER_TI\"].fillna(dfi[\"MIXER_TI\"].median(), inplace=True)"
   ]
  },
  {
   "cell_type": "code",
   "execution_count": 33,
   "metadata": {},
   "outputs": [
    {
     "name": "stdout",
     "output_type": "stream",
     "text": [
      "The shape of Feature Matrix is - (6443, 17)\n"
     ]
    }
   ],
   "source": [
    "df=dfi.drop('TD_P',axis=1)\n",
    "df=dfi.drop('TD_C',axis=1)\n",
    "df=dfi.drop('CAST_NO',axis=1)\n",
    "from sklearn.preprocessing import StandardScaler\n",
    "X_std = StandardScaler().fit_transform(df)\n",
    "\n",
    "print (\"The shape of Feature Matrix is -\",X_std.shape)"
   ]
  },
  {
   "cell_type": "code",
   "execution_count": 34,
   "metadata": {},
   "outputs": [],
   "source": [
    "X=X_std\n",
    "y=dfi['TD_P']\n",
    "from sklearn.model_selection import train_test_split\n",
    "X_train, X_test, y_train, y_test = train_test_split(X,y,\n",
    "                                                    test_size=0.2,\n",
    "                                                    random_state=42)"
   ]
  },
  {
   "cell_type": "code",
   "execution_count": 36,
   "metadata": {},
   "outputs": [
    {
     "name": "stdout",
     "output_type": "stream",
     "text": [
      "0.956864522586654\n",
      "{'n_estimators': 30, 'max_features': 8}\n"
     ]
    }
   ],
   "source": [
    "#Applying the Random forest regression along with hyperparameter tuning using RandomsearchCV. Below are the hypermaters that can be used for traing from which the best ones are to be chosen.from sklearn.ensemble import RandomForestRegressor\n",
    "from sklearn.model_selection import RandomizedSearchCV\n",
    "param_grid = [\n",
    "    {'n_estimators': [3, 10, 30], 'max_features': [2, 4, 6, 8]},\n",
    "    {'bootstrap': [False], 'n_estimators': [3, 10], 'max_features': [2, 3, 4]},\n",
    "  ]\n",
    "forest_reg = RandomForestRegressor()\n",
    "grid_search = RandomizedSearchCV(forest_reg, param_grid, cv=5,\n",
    "                          scoring='r2')\n",
    "grid_search.fit(X_train,y_train)\n",
    "print(grid_search.best_score_)\n",
    "print(grid_search.best_params_)"
   ]
  },
  {
   "cell_type": "code",
   "execution_count": 38,
   "metadata": {},
   "outputs": [
    {
     "name": "stdout",
     "output_type": "stream",
     "text": [
      "Model Performance\n",
      "Average Error: 0.0001 degrees.\n",
      "Accuracy = 99.32%.\n"
     ]
    }
   ],
   "source": [
    "def evaluate(model, test_features, test_labels):\n",
    "    predictions = model.predict(test_features)\n",
    "    errors = abs(predictions - test_labels)\n",
    "    mape = 100 * np.mean(errors / test_labels)\n",
    "    accuracy = 100 - mape\n",
    "    print('Model Performance')\n",
    "    print('Average Error: {:0.4f} degrees.'.format(np.mean(errors)))\n",
    "    print('Accuracy = {:0.2f}%.'.format(accuracy))\n",
    "    \n",
    "    return accuracy\n",
    "best_random = grid_search\n",
    "random_accuracy = evaluate(best_random, X_train,y_train)"
   ]
  },
  {
   "cell_type": "code",
   "execution_count": 16,
   "metadata": {},
   "outputs": [
    {
     "name": "stdout",
     "output_type": "stream",
     "text": [
      "MSE: 0.00\n",
      "RS: 1.00\n"
     ]
    }
   ],
   "source": [
    "#Checking with SGD Regression algorithm\n",
    "from sklearn.linear_model import SGDRegressor\n",
    "sgd_reg = SGDRegressor(alpha=0.0001, epsilon=0.1, eta0=0.01, fit_intercept=True,\n",
    "       l1_ratio=0.15, learning_rate='invscaling', loss='squared_loss', penalty='l2', power_t=0.25, random_state=None,\n",
    "       shuffle=False, verbose=0, warm_start=False)\n",
    "sgd_reg.fit(X_train, y_train)\n",
    "from sklearn.metrics import mean_squared_error\n",
    "mse = mean_squared_error(y_test, y_pred)\n",
    "print(\"MSE: %.2f\" % mse)\n",
    "from sklearn.metrics import r2_score\n",
    "rs = r2_score(y_test, y_pred)\n",
    "print(\"RS: %.2f\" % rs)"
   ]
  },
  {
   "cell_type": "code",
   "execution_count": 17,
   "metadata": {},
   "outputs": [
    {
     "name": "stdout",
     "output_type": "stream",
     "text": [
      "Model Performance\n",
      "Average Error: 0.6748 degrees.\n",
      "Accuracy = -3541.26%.\n"
     ]
    }
   ],
   "source": [
    "def evaluate(model, test_features, test_labels):\n",
    "    predictions = model.predict(test_features)\n",
    "    errors = abs(predictions - test_labels)\n",
    "    mape = 100 * np.mean(errors / test_labels)\n",
    "    accuracy = 100 - mape\n",
    "    print('Model Performance')\n",
    "    print('Average Error: {:0.4f} degrees.'.format(np.mean(errors)))\n",
    "    print('Accuracy = {:0.2f}%.'.format(accuracy))\n",
    "    \n",
    "    return accuracy\n",
    "best_random = sgd_reg\n",
    "random_accuracy = evaluate(best_random, X_train,y_train)"
   ]
  },
  {
   "cell_type": "code",
   "execution_count": 18,
   "metadata": {},
   "outputs": [
    {
     "data": {
      "text/plain": [
       "GridSearchCV(cv=10, error_score=nan,\n",
       "             estimator=XGBRegressor(base_score=0.5, booster='gbtree',\n",
       "                                    colsample_bylevel=1, colsample_bynode=1,\n",
       "                                    colsample_bytree=1, gamma=0,\n",
       "                                    importance_type='gain', learning_rate=0.1,\n",
       "                                    max_delta_step=0, max_depth=3,\n",
       "                                    min_child_weight=1, missing=None,\n",
       "                                    n_estimators=100, n_jobs=1, nthread=None,\n",
       "                                    objective='reg:linear', random_state=0,\n",
       "                                    reg_alpha=0, reg...\n",
       "                                    scale_pos_weight=1, seed=None, silent=None,\n",
       "                                    subsample=1, verbosity=1),\n",
       "             iid='deprecated', n_jobs=5,\n",
       "             param_grid={'colsample_bytree': [0.7],\n",
       "                         'learning_rate': [0.03, 0.05, 0.07],\n",
       "                         'max_depth': [5, 6, 7], 'min_child_weight': [4],\n",
       "                         'n_estimators': [500], 'nthread': [4],\n",
       "                         'objective': ['reg:linear'], 'silent': [1],\n",
       "                         'subsample': [0.7]},\n",
       "             pre_dispatch='2*n_jobs', refit=True, return_train_score=False,\n",
       "             scoring=None, verbose=0)"
      ]
     },
     "execution_count": 18,
     "metadata": {},
     "output_type": "execute_result"
    }
   ],
   "source": [
    "#Checking with XGBRegressor algorithm\n",
    "from xgboost import XGBRegressor\n",
    "from sklearn.model_selection import RandomizedSearchCV,GridSearchCV\n",
    "xgb1 = XGBRegressor()\n",
    "parameters = {'nthread':[4], #when use hyperthread, xgboost may become slower\n",
    "              'objective':['reg:linear'],\n",
    "              'learning_rate': [.03, 0.05, .07], #so called `eta` value\n",
    "              'max_depth': [5, 6, 7],\n",
    "              'min_child_weight': [4],\n",
    "              'silent': [1],\n",
    "              'subsample': [0.7],\n",
    "              'colsample_bytree': [0.7],\n",
    "              'n_estimators': [500]}\n",
    "\n",
    "xgb_grid = GridSearchCV(xgb1,\n",
    "                        parameters,\n",
    "                        cv = 10,\n",
    "                        n_jobs = 5,\n",
    "                        verbose=0)\n",
    "\n",
    "xgb_grid.fit(X_train,\n",
    "         y_train)"
   ]
  },
  {
   "cell_type": "code",
   "execution_count": 19,
   "metadata": {},
   "outputs": [
    {
     "data": {
      "text/plain": [
       "{'colsample_bytree': 0.7,\n",
       " 'learning_rate': 0.07,\n",
       " 'max_depth': 6,\n",
       " 'min_child_weight': 4,\n",
       " 'n_estimators': 500,\n",
       " 'nthread': 4,\n",
       " 'objective': 'reg:linear',\n",
       " 'silent': 1,\n",
       " 'subsample': 0.7}"
      ]
     },
     "execution_count": 19,
     "metadata": {},
     "output_type": "execute_result"
    }
   ],
   "source": [
    "xgb_grid.best_params_"
   ]
  },
  {
   "cell_type": "code",
   "execution_count": 46,
   "metadata": {},
   "outputs": [
    {
     "name": "stdout",
     "output_type": "stream",
     "text": [
      "Model Performance\n",
      "Average Error: 0.0001 degrees.\n",
      "Accuracy = 99.70%.\n",
      "R2: 1.00\n"
     ]
    }
   ],
   "source": [
    "def evaluate(model, test_features, test_labels):\n",
    "    predictions = model.predict(test_features)\n",
    "    errors = abs(predictions - test_labels)\n",
    "    mape = 100 * np.mean(errors / test_labels)\n",
    "    accuracy = 100 - mape\n",
    "    print('Model Performance')\n",
    "    print('Average Error: {:0.4f} degrees.'.format(np.mean(errors)))\n",
    "    print('Accuracy = {:0.2f}%.'.format(accuracy))\n",
    "    \n",
    "    return accuracy\n",
    "best_random = xgb_grid.best_estimator_\n",
    "random_accuracy = evaluate(best_random, X_train,y_train)\n",
    "y_pred = best_random.predict(X_test)\n",
    "from sklearn.metrics import mean_squared_error\n",
    "\n",
    "from sklearn.metrics import r2_score\n",
    "r2 = r2_score(y_test, y_pred)\n",
    "print(\"R2: %.2f\" % r2 )"
   ]
  },
  {
   "cell_type": "code",
   "execution_count": 21,
   "metadata": {},
   "outputs": [
    {
     "data": {
      "text/plain": [
       "GridSearchCV(cv=None, error_score=nan,\n",
       "             estimator=Ridge(alpha=1.0, copy_X=True, fit_intercept=True,\n",
       "                             max_iter=None, normalize=False, random_state=None,\n",
       "                             solver='auto', tol=0.001),\n",
       "             iid='deprecated', n_jobs=None,\n",
       "             param_grid={'alpha': array([1.e+00, 1.e-01, 1.e-02, 1.e-03, 1.e-04, 0.e+00])},\n",
       "             pre_dispatch='2*n_jobs', refit=True, return_train_score=False,\n",
       "             scoring=None, verbose=0)"
      ]
     },
     "execution_count": 21,
     "metadata": {},
     "output_type": "execute_result"
    }
   ],
   "source": [
    "#Checking with the Ridge regression algorithm\n",
    "from sklearn.linear_model import Ridge\n",
    "from sklearn.model_selection import GridSearchCV\n",
    "# load the diabetes datasets\n",
    "\n",
    "# prepare a range of alpha values to test\n",
    "alphas = np.array([1,0.1,0.01,0.001,0.0001,0])\n",
    "# create and fit a ridge regression model, testing each alpha\n",
    "model = Ridge()\n",
    "grid = GridSearchCV(estimator=model, param_grid=dict(alpha=alphas))\n",
    "grid.fit(X_train,y_train)\n"
   ]
  },
  {
   "cell_type": "code",
   "execution_count": 22,
   "metadata": {},
   "outputs": [
    {
     "name": "stdout",
     "output_type": "stream",
     "text": [
      "Model Performance\n",
      "Average Error: 0.0000 degrees.\n",
      "Accuracy = 100.00%.\n"
     ]
    }
   ],
   "source": [
    "def evaluate(model, test_features, test_labels):\n",
    "    predictions = model.predict(test_features)\n",
    "    errors = abs(predictions - test_labels)\n",
    "    mape = 100 * np.mean(errors / test_labels)\n",
    "    accuracy = 100 - mape\n",
    "    print('Model Performance')\n",
    "    print('Average Error: {:0.4f} degrees.'.format(np.mean(errors)))\n",
    "    print('Accuracy = {:0.2f}%.'.format(accuracy))\n",
    "    \n",
    "    return accuracy\n",
    "best_random = grid.best_estimator_\n",
    "random_accuracy = evaluate(best_random, X_train,y_train)"
   ]
  },
  {
   "cell_type": "code",
   "execution_count": 47,
   "metadata": {},
   "outputs": [],
   "source": [
    "#Checking these models, we can say that might be there can be an overfitting therefor we will consider RandomforestRegressor with the score 0.956."
   ]
  },
  {
   "cell_type": "code",
   "execution_count": null,
   "metadata": {},
   "outputs": [],
   "source": []
  }
 ],
 "metadata": {
  "kernelspec": {
   "display_name": "Python 3",
   "language": "python",
   "name": "python3"
  },
  "language_info": {
   "codemirror_mode": {
    "name": "ipython",
    "version": 3
   },
   "file_extension": ".py",
   "mimetype": "text/x-python",
   "name": "python",
   "nbconvert_exporter": "python",
   "pygments_lexer": "ipython3",
   "version": "3.7.6"
  }
 },
 "nbformat": 4,
 "nbformat_minor": 4
}
